{
 "cells": [
  {
   "cell_type": "code",
   "execution_count": 1,
   "metadata": {},
   "outputs": [
    {
     "name": "stderr",
     "output_type": "stream",
     "text": [
      "/tmp/ipykernel_34978/2016042400.py:8: DeprecationWarning: \n",
      "Pyarrow will become a required dependency of pandas in the next major release of pandas (pandas 3.0),\n",
      "(to allow more performant data types, such as the Arrow string type, and better interoperability with other libraries)\n",
      "but was not found to be installed on your system.\n",
      "If this would cause problems for you,\n",
      "please provide us feedback at https://github.com/pandas-dev/pandas/issues/54466\n",
      "        \n",
      "  import pandas\n"
     ]
    }
   ],
   "source": [
    "import torch\n",
    "import numpy as np\n",
    "\n",
    "\n",
    "import os\n",
    "import glob\n",
    "import re\n",
    "import pandas\n"
   ]
  },
  {
   "cell_type": "code",
   "execution_count": null,
   "metadata": {},
   "outputs": [],
   "source": []
  },
  {
   "cell_type": "code",
   "execution_count": 2,
   "metadata": {},
   "outputs": [],
   "source": [
    "prefix = '/mnt/hwfile/share_data/suzhongling/Ai4S/results/16T/open_CALcomplexHalf_COMint4kernel_TUNE1/Nodes32/ntask0/'\n",
    "data2 = torch.cat([torch.load(prefix + f'/rank{rank}.pt') for rank in range(256)])"
   ]
  },
  {
   "cell_type": "code",
   "execution_count": 3,
   "metadata": {},
   "outputs": [
    {
     "data": {
      "text/plain": [
       "torch.Size([2999996, 2, 2, 2, 2, 2, 2, 2, 2, 2, 2, 2, 2, 2])"
      ]
     },
     "execution_count": 3,
     "metadata": {},
     "output_type": "execute_result"
    }
   ],
   "source": [
    "data2.shape"
   ]
  },
  {
   "cell_type": "code",
   "execution_count": 4,
   "metadata": {},
   "outputs": [],
   "source": [
    "bitstringopen = torch.load('./sc41_reproduce_scheme_n53_m20_ABCDCDAB_3000000_einsum_13_open.pt')[-1]"
   ]
  },
  {
   "cell_type": "code",
   "execution_count": 5,
   "metadata": {},
   "outputs": [
    {
     "data": {
      "text/plain": [
       "2999996"
      ]
     },
     "execution_count": 5,
     "metadata": {},
     "output_type": "execute_result"
    }
   ],
   "source": [
    "len(bitstringopen)"
   ]
  },
  {
   "cell_type": "code",
   "execution_count": 6,
   "metadata": {},
   "outputs": [],
   "source": [
    "permute_idx = [7, 3, 12, 0, 4, 5, 6, 10, 8, 11, 9, 1, 2] # this is the permutation index of open result\n",
    "open_qubits = sorted([11, 12, 13, 19, 20, 22, 23, 28, 33, 37, 38, 40, 44])"
   ]
  },
  {
   "cell_type": "code",
   "execution_count": 7,
   "metadata": {},
   "outputs": [],
   "source": [
    "close_qubits = list(set(range(53)) - set(open_qubits))"
   ]
  },
  {
   "cell_type": "code",
   "execution_count": 8,
   "metadata": {},
   "outputs": [],
   "source": [
    "def find_corresponding_indices(dig, dig_raw_pre):\n",
    "    mapping = {}\n",
    "    for index, num in enumerate(dig):\n",
    "        mapping[num] = index\n",
    "\n",
    "    result = []\n",
    "    for num in dig_raw_pre:\n",
    "        assert num in mapping\n",
    "        result.append(mapping[num])\n",
    "\n",
    "    return result"
   ]
  },
  {
   "cell_type": "code",
   "execution_count": null,
   "metadata": {},
   "outputs": [],
   "source": []
  },
  {
   "cell_type": "code",
   "execution_count": 9,
   "metadata": {},
   "outputs": [
    {
     "name": "stdout",
     "output_type": "stream",
     "text": [
      "                                                    Binary  \\\n",
      "0        0000000000011000000000110000100101100100010010...   \n",
      "1        0000000000001100000011001000110000100101100000...   \n",
      "2        0000000000010000000011101100000111100100100010...   \n",
      "3        0000000000000100000011001100100000000110110100...   \n",
      "4        0000000000011000000101011100110001100010110111...   \n",
      "...                                                    ...   \n",
      "2999995  1111111111110011001010000011111001011001001100...   \n",
      "2999996  1111111111101011011110100011011001111101101011...   \n",
      "2999997  1111111111111111011011000111000001111111000000...   \n",
      "2999998  1111111111111111011101011111111111111011101100...   \n",
      "2999999  1111111111111111101000010111101010111100010110...   \n",
      "\n",
      "                                                Complex         Float  \n",
      "0        9.342210e-09-4.777170e-                    10j  8.750510e-17  \n",
      "1       -3.582660e-10+3.278370e-                    09j  1.087606e-17  \n",
      "2        1.348300e-08+7.413220e-                    09j  2.367471e-16  \n",
      "3       -4.211100e-09-6.473990e-                    09j  5.964591e-17  \n",
      "4       -2.925920e-09-9.809690e-                    09j  1.047910e-16  \n",
      "...                                                 ...           ...  \n",
      "2999995  2.364800e-09+5.851770e-                    09j  3.983549e-17  \n",
      "2999996 -7.149420e-09-8.590680e-                    09j  1.249140e-16  \n",
      "2999997 -5.193450e-09-3.294860e-                    10j  2.708048e-17  \n",
      "2999998 -1.465720e-08+1.164190e-                    08j  3.503673e-16  \n",
      "2999999  4.506060e-09+4.844490e-                    09j  4.377366e-17  \n",
      "\n",
      "[3000000 rows x 3 columns]\n"
     ]
    }
   ],
   "source": [
    "import pandas as pd\n",
    "import numpy as np\n",
    "\n",
    "# 读取文件，设定分隔符为 \"\\t\"\n",
    "df = pd.read_csv(\"amps3M_all.txt\", sep=\"\\t\", header=None)\n",
    "\n",
    "def parse_complex(string):\n",
    "    string = string.strip('()')  # remove parentheses\n",
    "    real, imag = map(float, string.split(','))  # split on comma and convert to float\n",
    "    return complex(real, imag)  # return complex number\n",
    "\n",
    "# 将第二列的字符串转换成复数\n",
    "df[1] = df[1].apply(lambda x: parse_complex(x))\n",
    "\n",
    "# 为列命名\n",
    "df.columns = [\"Binary\", \"Complex\", \"Float\"]\n",
    "print(df)"
   ]
  },
  {
   "cell_type": "code",
   "execution_count": 10,
   "metadata": {},
   "outputs": [],
   "source": [
    "df[\"BinaryClose\"] = df[\"Binary\"].apply(lambda x: \"\".join(np.array(list(x))[close_qubits]))"
   ]
  },
  {
   "cell_type": "code",
   "execution_count": 11,
   "metadata": {},
   "outputs": [],
   "source": [
    "df[\"Closeidx\"] = df[\"Binary\"].apply(lambda x: \n",
    "                                   np.frombuffer(bytes(x,'ascii'), dtype=np.uint8)[open_qubits][permute_idx]\n",
    "                                             - ord('0'))"
   ]
  },
  {
   "cell_type": "code",
   "execution_count": 16,
   "metadata": {},
   "outputs": [],
   "source": [
    "corresponding_indices = find_corresponding_indices(bitstringopen,df[\"BinaryClose\"])"
   ]
  },
  {
   "cell_type": "code",
   "execution_count": 17,
   "metadata": {},
   "outputs": [
    {
     "data": {
      "text/plain": [
       "3000000"
      ]
     },
     "execution_count": 17,
     "metadata": {},
     "output_type": "execute_result"
    }
   ],
   "source": [
    "len(corresponding_indices)"
   ]
  },
  {
   "cell_type": "code",
   "execution_count": 18,
   "metadata": {},
   "outputs": [],
   "source": [
    "amp_exact = df[\"Complex\"].values"
   ]
  },
  {
   "cell_type": "code",
   "execution_count": 19,
   "metadata": {},
   "outputs": [
    {
     "data": {
      "text/plain": [
       "array([ 9.34221e-09-4.77717e-10j, -3.58266e-10+3.27837e-09j,\n",
       "        1.34830e-08+7.41322e-09j, ..., -5.19345e-09-3.29486e-10j,\n",
       "       -1.46572e-08+1.16419e-08j,  4.50606e-09+4.84449e-09j])"
      ]
     },
     "execution_count": 19,
     "metadata": {},
     "output_type": "execute_result"
    }
   ],
   "source": [
    "amp_exact"
   ]
  },
  {
   "cell_type": "code",
   "execution_count": 21,
   "metadata": {},
   "outputs": [],
   "source": [
    "index_array = np.array(corresponding_indices).reshape(-1)\n",
    "closeidx = (np.stack(df[\"Closeidx\"].values)*np.array([2**(len(open_qubits)-x-1) for x in range(len(open_qubits))])).sum(axis=-1)\n",
    "index_array = index_array*(2**len(open_qubits)) + closeidx"
   ]
  },
  {
   "cell_type": "code",
   "execution_count": 22,
   "metadata": {},
   "outputs": [
    {
     "data": {
      "text/plain": [
       "array([       5846,       12559,       18332, ..., 21737898807,\n",
       "       21737912955, 23185765959])"
      ]
     },
     "execution_count": 22,
     "metadata": {},
     "output_type": "execute_result"
    }
   ],
   "source": [
    "index_array"
   ]
  },
  {
   "cell_type": "code",
   "execution_count": 23,
   "metadata": {},
   "outputs": [
    {
     "data": {
      "text/plain": [
       "torch.Size([24575967232])"
      ]
     },
     "execution_count": 23,
     "metadata": {},
     "output_type": "execute_result"
    }
   ],
   "source": [
    "data2.flatten().shape"
   ]
  },
  {
   "cell_type": "code",
   "execution_count": 24,
   "metadata": {},
   "outputs": [],
   "source": [
    "amp_sel = data2.flatten().index_select(0, torch.from_numpy(index_array))"
   ]
  },
  {
   "cell_type": "code",
   "execution_count": 25,
   "metadata": {},
   "outputs": [
    {
     "data": {
      "text/plain": [
       "0.0002394422044744715"
      ]
     },
     "execution_count": 25,
     "metadata": {},
     "output_type": "execute_result"
    }
   ],
   "source": [
    "amplitude_exact = torch.tensor(amp_exact.copy(),dtype=torch.complex64)[:]\n",
    "amplitude_appro = amp_sel.clone().to(torch.complex64)[:]\n",
    "fidelity = (\n",
    "    (amplitude_exact.conj() @ amplitude_appro.reshape(-1)).abs() /\n",
    "    (amplitude_exact.abs().square().sum().sqrt() * amplitude_appro.abs().square().sum().sqrt())\n",
    ").square().item()\n",
    "fidelity"
   ]
  },
  {
   "cell_type": "code",
   "execution_count": 101,
   "metadata": {},
   "outputs": [
    {
     "data": {
      "text/plain": [
       "3.814697265625e-05"
      ]
     },
     "execution_count": 101,
     "metadata": {},
     "output_type": "execute_result"
    }
   ],
   "source": [
    "10/2**18"
   ]
  },
  {
   "cell_type": "code",
   "execution_count": 57,
   "metadata": {},
   "outputs": [
    {
     "data": {
      "text/plain": [
       "array([ 4.50606e-09+4.84449e-09j, -1.46572e-08+1.16419e-08j,\n",
       "       -5.19345e-09-3.29486e-10j, ...,  1.34830e-08+7.41322e-09j,\n",
       "       -3.58266e-10+3.27837e-09j,  9.34221e-09-4.77717e-10j])"
      ]
     },
     "execution_count": 57,
     "metadata": {},
     "output_type": "execute_result"
    }
   ],
   "source": [
    "amp_exact[::-1]"
   ]
  },
  {
   "cell_type": "code",
   "execution_count": 110,
   "metadata": {},
   "outputs": [
    {
     "data": {
      "text/plain": [
       "0.002024139198205896"
      ]
     },
     "execution_count": 110,
     "metadata": {},
     "output_type": "execute_result"
    }
   ],
   "source": [
    "0.00027065412723459303*np.log(1024)/76*82"
   ]
  },
  {
   "cell_type": "code",
   "execution_count": 26,
   "metadata": {},
   "outputs": [
    {
     "data": {
      "text/plain": [
       "0.002157592956200992"
      ]
     },
     "execution_count": 26,
     "metadata": {},
     "output_type": "execute_result"
    }
   ],
   "source": [
    "0.0002394422044744715*np.log(2**13)"
   ]
  },
  {
   "cell_type": "code",
   "execution_count": null,
   "metadata": {},
   "outputs": [],
   "source": []
  }
 ],
 "metadata": {
  "kernelspec": {
   "display_name": "Python 3 (ipykernel)",
   "language": "python",
   "name": "python3"
  },
  "language_info": {
   "codemirror_mode": {
    "name": "ipython",
    "version": 3
   },
   "file_extension": ".py",
   "mimetype": "text/x-python",
   "name": "python",
   "nbconvert_exporter": "python",
   "pygments_lexer": "ipython3",
   "version": "3.9.18"
  }
 },
 "nbformat": 4,
 "nbformat_minor": 4
}
